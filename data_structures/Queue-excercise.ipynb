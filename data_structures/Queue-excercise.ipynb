{
 "cells": [
  {
   "attachments": {},
   "cell_type": "markdown",
   "metadata": {},
   "source": [
    "**Queue** - Orders Excercise (with multi-threading)"
   ]
  },
  {
   "cell_type": "code",
   "execution_count": 5,
   "metadata": {},
   "outputs": [],
   "source": [
    "from collections import deque\n",
    "import time, threading"
   ]
  },
  {
   "cell_type": "code",
   "execution_count": 6,
   "metadata": {},
   "outputs": [],
   "source": [
    "class Queue:\n",
    "    def __init__(self) -> None:\n",
    "        self.buffer = deque()\n",
    "        \n",
    "    def enqueue(self, value):\n",
    "        self.buffer.appendleft(value)\n",
    "        \n",
    "    def dequeue(self):\n",
    "        return self.buffer.pop()\n",
    "    \n",
    "    def is_empty(self):\n",
    "        return len(self.buffer) == 0\n",
    "    \n",
    "    def size(self):\n",
    "        return len(self.buffer)"
   ]
  },
  {
   "cell_type": "code",
   "execution_count": 7,
   "metadata": {},
   "outputs": [],
   "source": [
    "class Order:\n",
    "    def __init__(self) -> None:\n",
    "        self.orders = Queue()\n",
    "        \n",
    "    def place_orders(self, orders):\n",
    "        for order in orders:\n",
    "            self.orders.enqueue(order)\n",
    "            print(\"\\033[94mOrdered: \" + order)\n",
    "            time.sleep(0.5)\n",
    "\n",
    "    def serve_order(self):\n",
    "        order = self.orders.dequeue()\n",
    "        print(\"\\033[92mServed: \" + order)\n",
    "        return order\n",
    "    \n",
    "    def serve_orders(self):\n",
    "        while self.orders.size():\n",
    "            self.serve_order()\n",
    "            time.sleep(2)"
   ]
  },
  {
   "cell_type": "code",
   "execution_count": 8,
   "metadata": {},
   "outputs": [
    {
     "name": "stdout",
     "output_type": "stream",
     "text": [
      "\u001b[94mOrdered: pizza\n",
      "\u001b[92mServed: pizza\n",
      "\u001b[94mOrdered: fricase\n",
      "\u001b[94mOrdered: pasta\n",
      "\u001b[94mOrdered: silpancho\n",
      "\u001b[92mServed: fricase\n",
      "\u001b[94mOrdered: burger\n",
      "\u001b[92mServed: pasta\n",
      "\u001b[92mServed: silpancho\n",
      "\u001b[92mServed: burger\n",
      "\n",
      "\u001b[95mAll orders were served in 10.00545620918274 seconds\n"
     ]
    }
   ],
   "source": [
    "o = Order()\n",
    "orders = ['pizza', 'fricase', 'pasta', 'silpancho', 'burger']\n",
    "t1 = threading.Thread(target=o.place_orders, args=(orders,))\n",
    "t2 = threading.Thread(target=o.serve_orders)\n",
    "\n",
    "time1 = time.time()\n",
    "t1.start()\n",
    "t2.start()\n",
    "\n",
    "t1.join()\n",
    "t2.join()\n",
    "time2 = time.time()\n",
    "time_diff = time2 - time1\n",
    "\n",
    "print(\"\\n\\033[95mAll orders were served in \" + str(time_diff) + ' seconds')\n"
   ]
  }
 ],
 "metadata": {
  "kernelspec": {
   "display_name": "Python 3",
   "language": "python",
   "name": "python3"
  },
  "language_info": {
   "codemirror_mode": {
    "name": "ipython",
    "version": 3
   },
   "file_extension": ".py",
   "mimetype": "text/x-python",
   "name": "python",
   "nbconvert_exporter": "python",
   "pygments_lexer": "ipython3",
   "version": "3.10.5"
  },
  "orig_nbformat": 4
 },
 "nbformat": 4,
 "nbformat_minor": 2
}
