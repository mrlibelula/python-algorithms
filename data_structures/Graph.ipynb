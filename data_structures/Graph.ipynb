{
 "cells": [
  {
   "attachments": {},
   "cell_type": "markdown",
   "metadata": {},
   "source": [
    "**Graph**\n",
    "<div style=\"font-size: 1rem; display: flex; flex-direction: column;\">\n",
    "    All paths, find shortest path (min stops)\n",
    "</div>"
   ]
  },
  {
   "cell_type": "code",
   "execution_count": 1,
   "metadata": {},
   "outputs": [],
   "source": [
    "class Graph:\n",
    "    def __init__(self, edges) -> None:\n",
    "        self.edges = edges\n",
    "        self.graph_dict = {}\n",
    "        for start, end in self.edges:\n",
    "            if start in self.graph_dict:\n",
    "                self.graph_dict[start].append(end)\n",
    "            else:\n",
    "                self.graph_dict[start] = [end]\n",
    "        print('Graph dict: ', self.graph_dict)\n",
    "        \n",
    "    def get_paths(self, start, end, path=[]):\n",
    "        path = path + [start]\n",
    "        \n",
    "        if start == end:\n",
    "            return [path]\n",
    "        \n",
    "        if start not in self.graph_dict:\n",
    "            return []\n",
    "        \n",
    "        paths = []\n",
    "        \n",
    "        for node in self.graph_dict[start]:\n",
    "            if node not in path:\n",
    "                new_paths = self.get_paths(node, end, path)\n",
    "                for p in new_paths:\n",
    "                    paths.append(p)\n",
    "                    \n",
    "        return paths\n",
    "    \n",
    "    def shortest_path_by_stops(self, start, end, path=[]):\n",
    "        # shortest distance based on minimum number of stops\n",
    "        path = path + [start]\n",
    "        if start == end: return path\n",
    "        if start not in self.graph_dict: return None\n",
    "        \n",
    "        shortest_path = None\n",
    "        for node in self.graph_dict[start]:\n",
    "            if node not in path:\n",
    "                sp = self.shortest_path_by_stops(node, end, path)\n",
    "                if sp:\n",
    "                    if shortest_path is None or len(sp) < len(shortest_path):\n",
    "                        shortest_path = sp\n",
    "                        \n",
    "        return shortest_path"
   ]
  },
  {
   "attachments": {},
   "cell_type": "markdown",
   "metadata": {},
   "source": [
    "<font size=\"3\">\n",
    "    There are 2 possible scenarios:\n",
    "    <ol>\n",
    "        <li>Finding all the routes between 2 cities</li>\n",
    "        <li>Finding the shortest route between 2 cities</li>\n",
    "    </ol>\n",
    "    ![Flight Routes Image](https://libe.dev/images/portfolio/data-structures/graph-01.png) (Omit 'Boston' and 'Hartford' for this excercise)\n",
    "</font>"
   ]
  },
  {
   "cell_type": "code",
   "execution_count": 2,
   "metadata": {},
   "outputs": [],
   "source": [
    "routes = [\n",
    "    ('Mumbai', 'Paris'), \n",
    "    ('Mumbai', 'Dubai'), \n",
    "    ('Paris', 'Dubai'), \n",
    "    ('Paris', 'New York'), \n",
    "    ('Dubai', 'New York'), \n",
    "    ('New York', 'Toronto'), \n",
    "]"
   ]
  },
  {
   "cell_type": "code",
   "execution_count": 3,
   "metadata": {},
   "outputs": [
    {
     "name": "stdout",
     "output_type": "stream",
     "text": [
      "Graph dict:  {'Mumbai': ['Paris', 'Dubai'], 'Paris': ['Dubai', 'New York'], 'Dubai': ['New York'], 'New York': ['Toronto']}\n"
     ]
    }
   ],
   "source": [
    "route_graph = Graph(routes)"
   ]
  },
  {
   "cell_type": "code",
   "execution_count": 4,
   "metadata": {},
   "outputs": [
    {
     "name": "stdout",
     "output_type": "stream",
     "text": [
      "Paths between Mumbai and New York:  [['Mumbai', 'Paris', 'Dubai', 'New York'], ['Mumbai', 'Paris', 'New York'], ['Mumbai', 'Dubai', 'New York']]\n"
     ]
    }
   ],
   "source": [
    "start = 'Mumbai'\n",
    "end = 'New York'\n",
    "print(f\"Paths between {start} and {end}: \", route_graph.get_paths(start, end))"
   ]
  },
  {
   "cell_type": "code",
   "execution_count": 5,
   "metadata": {},
   "outputs": [
    {
     "name": "stdout",
     "output_type": "stream",
     "text": [
      "Shortest path between Mumbai and New York:  ['Mumbai', 'Paris', 'New York']\n"
     ]
    }
   ],
   "source": [
    "print(f\"Shortest path between {start} and {end}: \", route_graph.shortest_path_by_stops(start, end))"
   ]
  }
 ],
 "metadata": {
  "kernelspec": {
   "display_name": "Python 3",
   "language": "python",
   "name": "python3"
  },
  "language_info": {
   "codemirror_mode": {
    "name": "ipython",
    "version": 3
   },
   "file_extension": ".py",
   "mimetype": "text/x-python",
   "name": "python",
   "nbconvert_exporter": "python",
   "pygments_lexer": "ipython3",
   "version": "3.10.5"
  },
  "orig_nbformat": 4
 },
 "nbformat": 4,
 "nbformat_minor": 2
}
