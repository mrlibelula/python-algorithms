{
 "cells": [
  {
   "attachments": {},
   "cell_type": "markdown",
   "metadata": {},
   "source": [
    "**BST** - Binary Search Tree\n",
    "<div style=\"font-size: 1rem; display: flex; flex-direction: column;\">\n",
    "    <div>Search complexity: O(log n)</div>\n",
    "    <div>Insert complexity: O(log n)</div>\n",
    "    <div>Time complexity: Proportional to the height of the tree (better if height is as <strong>minimum as possible</strong>)</div>\n",
    "    <div>Works as 'Set' data structure</div>\n",
    "</div>"
   ]
  },
  {
   "attachments": {},
   "cell_type": "markdown",
   "metadata": {},
   "source": [
    "<span style=\"font-size: 1rem;\">Binary Tree</span>\n",
    "<span style=\"font-size: 1rem;\">https://www.youtube.com/watch?v=H5JubkIy_p8</span>"
   ]
  },
  {
   "attachments": {},
   "cell_type": "markdown",
   "metadata": {},
   "source": [
    "<div style=\"font-size: 1rem;\">\n",
    "\n",
    "Max number of nodes in a **perfect** binary tree with height h:\n",
    "\n",
    "n = 2<sup> h+1</sup> - 1\n",
    "\n",
    "Min height of **perfect** binary tree with n nodes:\n",
    "\n",
    "h = log <sub>2</sub> (n + 1) - 1\n",
    "\n",
    "Max number of nodes in a **complete** binary tree at level (i):\n",
    "\n",
    "n = 2 <sup>i</sup>\n",
    "\n",
    "Max height of **complete** binary tree with n nodes:\n",
    "\n",
    "h = n - 1  👉 Time complexity: O(n)\n",
    "\n",
    "Min height of **complete** binary tree with n nodes:\n",
    "\n",
    "h = ⌊ log <sub>2</sub> n ⌋  👉 Time complexity: O(log <sub>2</sub> n) (better)\n",
    "\n",
    "Height of empty tree = -1\n",
    "\n",
    "Height of a tree with 1 node = 0\n",
    "\n",
    "**Balanced** binary tree 👉 Diff between heights (left and right) subtree for every node is no more than k (mostly 1)\n",
    "\n",
    "diff = | h <sub>left</sub> - h <sub>right</sub> |&nbsp;&nbsp;&nbsp;&nbsp;(for all nodes in a perfect tree diff = 0)\n",
    "\n",
    "**Complete** binary trees can be implemented using:\n",
    "\n",
    "<ol>\n",
    "    <li>Dynamically created nodes</li>\n",
    "    <li>Arrays (used for <strong>heaps</strong>)</li>\n",
    "</ol>\n",
    "<code>\n",
    "    for node at index i:\n",
    "    \n",
    "        left_child_index = 2i + 1\n",
    "        right_child_index = 2i + 2\n",
    "</code>\n",
    "\n",
    "</div>"
   ]
  },
  {
   "attachments": {},
   "cell_type": "markdown",
   "metadata": {},
   "source": [
    "**BST** - Traversal Techniques (recursive)\n",
    "<ul style=\"font-size: 1rem;\">\n",
    "    <li>Breadth first search</li>\n",
    "    <li>Depth first search</li>\n",
    "    <ul>\n",
    "        <li>In-order traversal [left subtree + root node + right subtree]</li>\n",
    "        <li>Pre-order traversal [root node + left subtree + right subtree]</li>\n",
    "        <li>Post-order traversal [left subtree + right subtree + root node]</li>\n",
    "    </ul>\n",
    "</ul>"
   ]
  },
  {
   "attachments": {},
   "cell_type": "markdown",
   "metadata": {},
   "source": [
    "<span style=\"font-size: 1.3rem; color: lightblue;\">In-order traversal implementation</span>"
   ]
  },
  {
   "cell_type": "code",
   "execution_count": 364,
   "metadata": {},
   "outputs": [],
   "source": [
    "class BinarySearchTreeNode:\n",
    "    def __init__(self, data) -> None:\n",
    "        self.data = data\n",
    "        self.left = None\n",
    "        self.right = None\n",
    "        \n",
    "    def add_child(self, data):    # O(log n)\n",
    "        if data == self.data: return\n",
    "        if data < self.data:\n",
    "            # add data to left subtree\n",
    "            if self.left:\n",
    "                self.left.add_child(data)\n",
    "            else:\n",
    "                self.left = BinarySearchTreeNode(data)\n",
    "        else:\n",
    "            # add data to right subtree\n",
    "            if self.right:\n",
    "                self.right.add_child(data)\n",
    "            else:\n",
    "                self.right = BinarySearchTreeNode(data)\n",
    "                \n",
    "    def in_order_traversal(self):    # O(log n)\n",
    "        # [left subtree + root node + right subtree]\n",
    "        elements = []\n",
    "        \n",
    "        # left subtree\n",
    "        if self.left:\n",
    "            elements += self.left.in_order_traversal()\n",
    "            \n",
    "        # root node\n",
    "        elements.append(self.data)\n",
    "        \n",
    "        # right subtree\n",
    "        if self.right:\n",
    "            elements += self.right.in_order_traversal()\n",
    "        \n",
    "        return elements\n",
    "    \n",
    "    def pre_order_traversal(self):    # O(log n)\n",
    "        elements = []\n",
    "        elements.append(self.data)\n",
    "        if self.left:\n",
    "            elements += self.left.pre_order_traversal()\n",
    "        if self.right:\n",
    "            elements += self.right.pre_order_traversal()\n",
    "        return elements\n",
    "    \n",
    "    def post_order_traversal(self):    # O(log n)\n",
    "        elements = []\n",
    "        if self.left:\n",
    "            elements += self.left.post_order_traversal()\n",
    "        if self.right:\n",
    "            elements += self.right.post_order_traversal()\n",
    "        elements.append(self.data)\n",
    "        return elements\n",
    "    \n",
    "    def find_min(self):    # O(log n)\n",
    "        if self.left is None:\n",
    "            return self.data\n",
    "        return self.left.find_min()\n",
    "    \n",
    "    def find_max(self):    # O(log n)\n",
    "        if self.right is None:\n",
    "            return self.data\n",
    "        return self.right.find_max()\n",
    "    \n",
    "    def delete(self, value):    # O(log n)\n",
    "        if value < self.data:\n",
    "            if self.left:\n",
    "                self.left = self.left.delete(value)\n",
    "        elif value > self.data:\n",
    "            if self.right:\n",
    "                self.right = self.right.delete(value)\n",
    "        else:\n",
    "            if self.left is None and self.right is None: return None\n",
    "            if self.left is None: return self.right\n",
    "            if self.right is None: return self.left\n",
    "            \n",
    "            min_value = self.right.find_min()\n",
    "            self.data = min_value\n",
    "            self.right = self.right.delete(min_value)\n",
    "            \n",
    "        return self\n",
    "    \n",
    "    def search(self, value):    # O(log n)\n",
    "        if self.data == value: return True\n",
    "        if value < self.data:\n",
    "            return self.left.search(value) if self.left else False\n",
    "        if value > self.data:\n",
    "            return self.right.search(value) if self.right else False"
   ]
  },
  {
   "cell_type": "code",
   "execution_count": 365,
   "metadata": {},
   "outputs": [],
   "source": [
    "def build_tree(elements):\n",
    "    print('Building tree with these elements: ', elements)\n",
    "    root = BinarySearchTreeNode(elements[0])\n",
    "    \n",
    "    for i in range(1, len(elements)):\n",
    "        root.add_child(elements[i])\n",
    "        \n",
    "    return root"
   ]
  },
  {
   "cell_type": "code",
   "execution_count": 366,
   "metadata": {},
   "outputs": [
    {
     "name": "stdout",
     "output_type": "stream",
     "text": [
      "Building tree with these elements:  [17, 4, 1, 20, 9, 23, 18, 34, 1, 18]\n"
     ]
    },
    {
     "data": {
      "text/plain": [
       "[1, 4, 9, 17, 18, 20, 23, 34]"
      ]
     },
     "execution_count": 366,
     "metadata": {},
     "output_type": "execute_result"
    }
   ],
   "source": [
    "numbers = [17, 4, 1, 20, 9, 23, 18, 34, 1, 18]\n",
    "numbers_tree = build_tree(numbers)\n",
    "numbers_tree.in_order_traversal()"
   ]
  },
  {
   "cell_type": "code",
   "execution_count": 367,
   "metadata": {},
   "outputs": [
    {
     "data": {
      "text/plain": [
       "True"
      ]
     },
     "execution_count": 367,
     "metadata": {},
     "output_type": "execute_result"
    }
   ],
   "source": [
    "numbers_tree.search(20)"
   ]
  },
  {
   "cell_type": "code",
   "execution_count": 368,
   "metadata": {},
   "outputs": [
    {
     "data": {
      "text/plain": [
       "False"
      ]
     },
     "execution_count": 368,
     "metadata": {},
     "output_type": "execute_result"
    }
   ],
   "source": [
    "numbers_tree.search(21)"
   ]
  },
  {
   "cell_type": "code",
   "execution_count": 369,
   "metadata": {},
   "outputs": [
    {
     "name": "stdout",
     "output_type": "stream",
     "text": [
      "Building tree with these elements:  ['India', 'Bolivia', 'Germany', 'USA', 'China', 'India', 'Bolivia', 'UK', 'India']\n"
     ]
    }
   ],
   "source": [
    "countries = ['India', 'Bolivia', 'Germany', 'USA', 'China', 'India', 'Bolivia', 'UK', 'India']\n",
    "country_tree = build_tree(countries)"
   ]
  },
  {
   "cell_type": "code",
   "execution_count": 370,
   "metadata": {},
   "outputs": [
    {
     "data": {
      "text/plain": [
       "['Bolivia', 'China', 'Germany', 'India', 'UK', 'USA']"
      ]
     },
     "execution_count": 370,
     "metadata": {},
     "output_type": "execute_result"
    }
   ],
   "source": [
    "country_tree.in_order_traversal()"
   ]
  },
  {
   "cell_type": "code",
   "execution_count": 371,
   "metadata": {},
   "outputs": [
    {
     "name": "stdout",
     "output_type": "stream",
     "text": [
      "Is Bolivia in the list?  True\n",
      "Does Bolivia has sea?  False\n"
     ]
    }
   ],
   "source": [
    "print('Is Bolivia in the list? ', country_tree.search('Bolivia'))\n",
    "print('Does Bolivia has sea? ', country_tree.search('Chile'))"
   ]
  },
  {
   "cell_type": "code",
   "execution_count": 372,
   "metadata": {},
   "outputs": [
    {
     "data": {
      "text/plain": [
       "['India', 'Bolivia', 'Germany', 'China', 'USA', 'UK']"
      ]
     },
     "execution_count": 372,
     "metadata": {},
     "output_type": "execute_result"
    }
   ],
   "source": [
    "country_tree.pre_order_traversal()"
   ]
  },
  {
   "cell_type": "code",
   "execution_count": 373,
   "metadata": {},
   "outputs": [
    {
     "data": {
      "text/plain": [
       "['China', 'Germany', 'Bolivia', 'UK', 'USA', 'India']"
      ]
     },
     "execution_count": 373,
     "metadata": {},
     "output_type": "execute_result"
    }
   ],
   "source": [
    "country_tree.post_order_traversal()"
   ]
  },
  {
   "cell_type": "code",
   "execution_count": 374,
   "metadata": {},
   "outputs": [
    {
     "data": {
      "text/plain": [
       "['Germany', 'Bolivia', 'UK', 'USA', 'India']"
      ]
     },
     "execution_count": 374,
     "metadata": {},
     "output_type": "execute_result"
    }
   ],
   "source": [
    "country_tree.delete('China')\n",
    "country_tree.post_order_traversal()"
   ]
  },
  {
   "cell_type": "code",
   "execution_count": 375,
   "metadata": {},
   "outputs": [
    {
     "data": {
      "text/plain": [
       "[1, 4, 9, 17, 18, 20, 23, 34]"
      ]
     },
     "execution_count": 375,
     "metadata": {},
     "output_type": "execute_result"
    }
   ],
   "source": [
    "numbers_tree.in_order_traversal()"
   ]
  },
  {
   "cell_type": "code",
   "execution_count": 376,
   "metadata": {},
   "outputs": [
    {
     "data": {
      "text/plain": [
       "17"
      ]
     },
     "execution_count": 376,
     "metadata": {},
     "output_type": "execute_result"
    }
   ],
   "source": [
    "numbers_tree.data   # actual root node"
   ]
  },
  {
   "cell_type": "code",
   "execution_count": 377,
   "metadata": {},
   "outputs": [
    {
     "data": {
      "text/plain": [
       "[1, 4, 9, 18, 20, 23, 34]"
      ]
     },
     "execution_count": 377,
     "metadata": {},
     "output_type": "execute_result"
    }
   ],
   "source": [
    "numbers_tree.delete(17) # removing root node\n",
    "numbers_tree.in_order_traversal()"
   ]
  },
  {
   "cell_type": "code",
   "execution_count": 378,
   "metadata": {},
   "outputs": [
    {
     "data": {
      "text/plain": [
       "18"
      ]
     },
     "execution_count": 378,
     "metadata": {},
     "output_type": "execute_result"
    }
   ],
   "source": [
    "numbers_tree.data   # new root node"
   ]
  },
  {
   "cell_type": "code",
   "execution_count": 379,
   "metadata": {},
   "outputs": [
    {
     "data": {
      "text/plain": [
       "'India'"
      ]
     },
     "execution_count": 379,
     "metadata": {},
     "output_type": "execute_result"
    }
   ],
   "source": [
    "country_tree.data"
   ]
  },
  {
   "cell_type": "code",
   "execution_count": 380,
   "metadata": {},
   "outputs": [
    {
     "data": {
      "text/plain": [
       "['Bolivia', 'Germany', 'UK', 'USA']"
      ]
     },
     "execution_count": 380,
     "metadata": {},
     "output_type": "execute_result"
    }
   ],
   "source": [
    "country_tree.delete('India')\n",
    "country_tree.in_order_traversal()"
   ]
  },
  {
   "cell_type": "code",
   "execution_count": 381,
   "metadata": {},
   "outputs": [
    {
     "data": {
      "text/plain": [
       "'UK'"
      ]
     },
     "execution_count": 381,
     "metadata": {},
     "output_type": "execute_result"
    }
   ],
   "source": [
    "country_tree.data"
   ]
  }
 ],
 "metadata": {
  "kernelspec": {
   "display_name": "Python 3",
   "language": "python",
   "name": "python3"
  },
  "language_info": {
   "codemirror_mode": {
    "name": "ipython",
    "version": 3
   },
   "file_extension": ".py",
   "mimetype": "text/x-python",
   "name": "python",
   "nbconvert_exporter": "python",
   "pygments_lexer": "ipython3",
   "version": "3.10.5"
  },
  "orig_nbformat": 4
 },
 "nbformat": 4,
 "nbformat_minor": 2
}
