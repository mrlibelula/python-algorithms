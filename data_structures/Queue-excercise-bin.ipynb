{
 "cells": [
  {
   "attachments": {},
   "cell_type": "markdown",
   "metadata": {},
   "source": [
    "**Queue** - Binary Excercise"
   ]
  },
  {
   "cell_type": "code",
   "execution_count": 6,
   "metadata": {},
   "outputs": [],
   "source": [
    "from collections import deque\n",
    "# 1\n",
    "# 10\n",
    "# 11\n",
    "# 100\n",
    "# 101\n",
    "# 110\n",
    "# 111\n",
    "# 1000\n",
    "# 1001\n",
    "# 1010\n",
    "\n",
    "# pattern hint: 1st, 2nd, 3rd is 1+0 and 1+1, \n",
    "# 4th and 5th numbers (ie: 10)+0 and next number (ie: 10)+1"
   ]
  },
  {
   "cell_type": "code",
   "execution_count": 7,
   "metadata": {},
   "outputs": [],
   "source": [
    "class Queue:\n",
    "    def __init__(self) -> None:\n",
    "        self.buffer = deque()\n",
    "        \n",
    "    def enqueue(self, value):\n",
    "        self.buffer.appendleft(value)\n",
    "        \n",
    "    def dequeue(self):\n",
    "        return self.buffer.pop()\n",
    "    \n",
    "    def front(self):\n",
    "        return self.buffer[-1]\n",
    "    \n",
    "    def is_empty(self):\n",
    "        return len(self.buffer) == 0\n",
    "    \n",
    "    def size(self):\n",
    "        return len(self.buffer)"
   ]
  },
  {
   "cell_type": "code",
   "execution_count": 8,
   "metadata": {},
   "outputs": [],
   "source": [
    "def bin_list(list_len=10):\n",
    "    # returns first 'list_len' binary numbers starting from 1\n",
    "    bin_numbers = Queue()\n",
    "    bin_numbers.enqueue('1')\n",
    "    for iteration in range(list_len):\n",
    "        front = bin_numbers.front()\n",
    "        print(' ', front)\n",
    "        bin_numbers.enqueue(front + '0')\n",
    "        bin_numbers.enqueue(front + '1')\n",
    "        bin_numbers.dequeue()"
   ]
  },
  {
   "cell_type": "code",
   "execution_count": 9,
   "metadata": {},
   "outputs": [
    {
     "name": "stdout",
     "output_type": "stream",
     "text": [
      "  1\n",
      "  10\n",
      "  11\n",
      "  100\n",
      "  101\n",
      "  110\n",
      "  111\n",
      "  1000\n",
      "  1001\n",
      "  1010\n",
      "  1011\n",
      "  1100\n",
      "  1101\n",
      "  1110\n",
      "  1111\n",
      "  10000\n",
      "  10001\n",
      "  10010\n",
      "  10011\n",
      "  10100\n"
     ]
    }
   ],
   "source": [
    "bin_list(20)"
   ]
  }
 ],
 "metadata": {
  "kernelspec": {
   "display_name": "Python 3",
   "language": "python",
   "name": "python3"
  },
  "language_info": {
   "codemirror_mode": {
    "name": "ipython",
    "version": 3
   },
   "file_extension": ".py",
   "mimetype": "text/x-python",
   "name": "python",
   "nbconvert_exporter": "python",
   "pygments_lexer": "ipython3",
   "version": "3.10.5"
  },
  "orig_nbformat": 4
 },
 "nbformat": 4,
 "nbformat_minor": 2
}
