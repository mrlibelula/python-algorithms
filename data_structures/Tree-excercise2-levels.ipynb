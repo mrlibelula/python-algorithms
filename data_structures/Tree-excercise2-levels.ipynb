{
 "cells": [
  {
   "attachments": {},
   "cell_type": "markdown",
   "metadata": {},
   "source": [
    "**Tree** - Excercise 2 - tree levels"
   ]
  },
  {
   "cell_type": "code",
   "execution_count": 1,
   "metadata": {},
   "outputs": [],
   "source": [
    "from __future__ import annotations\n",
    "from tool import color"
   ]
  },
  {
   "cell_type": "code",
   "execution_count": 2,
   "metadata": {},
   "outputs": [],
   "source": [
    "class TreeNode:\n",
    "    def __init__(self, data) -> None:\n",
    "        self.data = data\n",
    "        self.children = []\n",
    "        self.parent = None\n",
    "        \n",
    "    def add_child(self, child: TreeNode) -> TreeNode:\n",
    "        child.parent = self\n",
    "        self.children.append(child)\n",
    "        return self\n",
    "    \n",
    "    def get_level(self):\n",
    "        level = 0\n",
    "        parent = self.parent\n",
    "        while parent:\n",
    "            level += 1\n",
    "            parent = parent.parent\n",
    "        return level\n",
    "    \n",
    "    def print(self, until_level=-1) -> None:    # -1: prints all tree nodes\n",
    "        level = self.get_level()\n",
    "        if until_level == level: return\n",
    "        \n",
    "        indent = ' ' * level * 3\n",
    "        prefix = indent + color('DARKGRAY') + \"|__\" if self.parent else ''\n",
    "        str = color('GREEN') + self.data + \" (root)\" if level == 0 else prefix + (color('PURPLE') if level == 1 else color('GRAY')) + self.data\n",
    "        print(str)\n",
    "        if self.children:\n",
    "            for child in self.children:\n",
    "                child.print(until_level)"
   ]
  },
  {
   "cell_type": "code",
   "execution_count": 3,
   "metadata": {},
   "outputs": [],
   "source": [
    "def feed_location_tree() -> TreeNode:\n",
    "    root = TreeNode('Global')\n",
    "    \n",
    "    india = TreeNode('India')\n",
    "    gujarat = TreeNode('Gujarat')\n",
    "    ahmedabad = TreeNode('Ahmedabad')\n",
    "    baroda = TreeNode('Baroda')\n",
    "    \n",
    "    karnataka = TreeNode('Karnataka')\n",
    "    bangluru = TreeNode('Bangluru')\n",
    "    mysore = TreeNode('Mysore')\n",
    "    \n",
    "    usa = TreeNode('USA')\n",
    "    new_jersey = TreeNode('New Jersey')\n",
    "    princeton = TreeNode('Princeton')\n",
    "    trenton = TreeNode('Trenton')\n",
    "    california = TreeNode('California')\n",
    "    san_francisco = TreeNode('San Francisco')\n",
    "    mountain_view = TreeNode('Mountain View')\n",
    "    palo_alto = TreeNode('Palo Alto')\n",
    "    \n",
    "    california.add_child(san_francisco)\n",
    "    california.add_child(mountain_view)\n",
    "    california.add_child(palo_alto)\n",
    "    \n",
    "    new_jersey.add_child(princeton)\n",
    "    new_jersey.add_child(trenton)\n",
    "    \n",
    "    usa.add_child(new_jersey)\n",
    "    usa.add_child(california)\n",
    "    \n",
    "    karnataka.add_child(bangluru)\n",
    "    karnataka.add_child(mysore)\n",
    "    \n",
    "    gujarat.add_child(ahmedabad)\n",
    "    gujarat.add_child(baroda)\n",
    "    \n",
    "    india.add_child(gujarat)\n",
    "    india.add_child(karnataka)\n",
    "    \n",
    "    root.add_child(india)\n",
    "    root.add_child(usa)\n",
    "    \n",
    "    return root"
   ]
  },
  {
   "cell_type": "code",
   "execution_count": 4,
   "metadata": {},
   "outputs": [
    {
     "name": "stdout",
     "output_type": "stream",
     "text": [
      "\u001b[92mGlobal (root)\n",
      "   \u001b[90m|__\u001b[94mIndia\n",
      "      \u001b[90m|__\u001b[37mGujarat\n",
      "         \u001b[90m|__\u001b[37mAhmedabad\n",
      "         \u001b[90m|__\u001b[37mBaroda\n",
      "      \u001b[90m|__\u001b[37mKarnataka\n",
      "         \u001b[90m|__\u001b[37mBangluru\n",
      "         \u001b[90m|__\u001b[37mMysore\n",
      "   \u001b[90m|__\u001b[94mUSA\n",
      "      \u001b[90m|__\u001b[37mNew Jersey\n",
      "         \u001b[90m|__\u001b[37mPrinceton\n",
      "         \u001b[90m|__\u001b[37mTrenton\n",
      "      \u001b[90m|__\u001b[37mCalifornia\n",
      "         \u001b[90m|__\u001b[37mSan Francisco\n",
      "         \u001b[90m|__\u001b[37mMountain View\n",
      "         \u001b[90m|__\u001b[37mPalo Alto\n"
     ]
    }
   ],
   "source": [
    "feed_location_tree().print()    # print() without args will output entire tree"
   ]
  },
  {
   "cell_type": "code",
   "execution_count": 5,
   "metadata": {},
   "outputs": [
    {
     "name": "stdout",
     "output_type": "stream",
     "text": [
      "\u001b[92mGlobal (root)\n",
      "   \u001b[90m|__\u001b[94mIndia\n",
      "   \u001b[90m|__\u001b[94mUSA\n"
     ]
    }
   ],
   "source": [
    "feed_location_tree().print(2)   # outputs tree until level 2"
   ]
  },
  {
   "cell_type": "code",
   "execution_count": 6,
   "metadata": {},
   "outputs": [
    {
     "name": "stdout",
     "output_type": "stream",
     "text": [
      "\u001b[92mGlobal (root)\n",
      "   \u001b[90m|__\u001b[94mIndia\n",
      "      \u001b[90m|__\u001b[37mGujarat\n",
      "      \u001b[90m|__\u001b[37mKarnataka\n",
      "   \u001b[90m|__\u001b[94mUSA\n",
      "      \u001b[90m|__\u001b[37mNew Jersey\n",
      "      \u001b[90m|__\u001b[37mCalifornia\n"
     ]
    }
   ],
   "source": [
    "feed_location_tree().print(3)"
   ]
  },
  {
   "cell_type": "code",
   "execution_count": 7,
   "metadata": {},
   "outputs": [
    {
     "name": "stdout",
     "output_type": "stream",
     "text": [
      "\u001b[92mGlobal (root)\n"
     ]
    }
   ],
   "source": [
    "feed_location_tree().print(1)"
   ]
  }
 ],
 "metadata": {
  "kernelspec": {
   "display_name": "Python 3",
   "language": "python",
   "name": "python3"
  },
  "language_info": {
   "codemirror_mode": {
    "name": "ipython",
    "version": 3
   },
   "file_extension": ".py",
   "mimetype": "text/x-python",
   "name": "python",
   "nbconvert_exporter": "python",
   "pygments_lexer": "ipython3",
   "version": "3.10.5"
  },
  "orig_nbformat": 4
 },
 "nbformat": 4,
 "nbformat_minor": 2
}
