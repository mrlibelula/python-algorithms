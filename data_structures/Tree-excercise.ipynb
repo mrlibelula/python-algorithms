{
 "cells": [
  {
   "attachments": {},
   "cell_type": "markdown",
   "metadata": {},
   "source": [
    "**Tree** - Excercises"
   ]
  },
  {
   "cell_type": "code",
   "execution_count": 1,
   "metadata": {},
   "outputs": [],
   "source": [
    "from __future__ import annotations\n",
    "from tool import color"
   ]
  },
  {
   "cell_type": "code",
   "execution_count": 2,
   "metadata": {},
   "outputs": [],
   "source": [
    "class TreeNode:\n",
    "    def __init__(self, name, designation) -> None:\n",
    "        self.name = name\n",
    "        self.designation = designation\n",
    "        self.children = []\n",
    "        self.parent = None\n",
    "        \n",
    "    def add_child(self, child: TreeNode) -> TreeNode:\n",
    "        child.parent = self\n",
    "        self.children.append(child)\n",
    "        return self\n",
    "    \n",
    "    def get_level(self):\n",
    "        level = 0\n",
    "        parent = self.parent\n",
    "        while parent:\n",
    "            level += 1\n",
    "            parent = parent.parent\n",
    "        return level\n",
    "    \n",
    "    def print(self, show='both') -> None:\n",
    "        show = show.lower()\n",
    "        data = ''\n",
    "        if show == 'both':\n",
    "            data = self.name + ' (' + self.designation + ')'\n",
    "        if show == 'name':\n",
    "            data = self.name\n",
    "        if show == 'designation':\n",
    "            data = self.designation\n",
    "        \n",
    "        level = self.get_level()\n",
    "        indent = ' ' * level * 3\n",
    "        prefix = indent + color('DARKGRAY') + \"|__\" if self.parent else ''\n",
    "        \n",
    "        str = color('GREEN') + data + \" (root)\" if level == 0 else prefix + (color('PURPLE') if level == 1 else color('GRAY')) + data\n",
    "        print(str)\n",
    "        if self.children:\n",
    "            for child in self.children:\n",
    "                child.print(show)"
   ]
  },
  {
   "cell_type": "code",
   "execution_count": 3,
   "metadata": {},
   "outputs": [],
   "source": [
    "def feed_management_tree() -> TreeNode:\n",
    "    ceo = TreeNode('Nilupul', 'CEO')\n",
    "    cto = TreeNode('Chinmay', 'CTO')\n",
    "    hr = TreeNode('Gels', 'HR Head')\n",
    "    infra = TreeNode('Vishwa', 'Infrastructure Head')\n",
    "    app_head = TreeNode('Aamir', 'Application Head')\n",
    "    recruit = TreeNode('Peter', 'Recruitment Manager')\n",
    "    policy = TreeNode('Waqas', 'Policy Manager')\n",
    "    cloud = TreeNode('Dhaval', 'Cloud Manager')\n",
    "    app_manager = TreeNode('Abhijit', 'App Manager')\n",
    "    \n",
    "    hr.add_child(recruit)\n",
    "    hr.add_child(policy)\n",
    "    \n",
    "    infra.add_child(cloud)\n",
    "    infra.add_child(app_manager)\n",
    "    \n",
    "    cto.add_child(infra)\n",
    "    cto.add_child(app_head)\n",
    "    \n",
    "    ceo.add_child(cto)\n",
    "    ceo.add_child(hr)\n",
    "    \n",
    "    return ceo"
   ]
  },
  {
   "cell_type": "code",
   "execution_count": 4,
   "metadata": {},
   "outputs": [
    {
     "name": "stdout",
     "output_type": "stream",
     "text": [
      "\u001b[92mNilupul (CEO) (root)\n",
      "   \u001b[90m|__\u001b[94mChinmay (CTO)\n",
      "      \u001b[90m|__\u001b[37mVishwa (Infrastructure Head)\n",
      "         \u001b[90m|__\u001b[37mDhaval (Cloud Manager)\n",
      "         \u001b[90m|__\u001b[37mAbhijit (App Manager)\n",
      "      \u001b[90m|__\u001b[37mAamir (Application Head)\n",
      "   \u001b[90m|__\u001b[94mGels (HR Head)\n",
      "      \u001b[90m|__\u001b[37mPeter (Recruitment Manager)\n",
      "      \u001b[90m|__\u001b[37mWaqas (Policy Manager)\n"
     ]
    }
   ],
   "source": [
    "feed_management_tree().print('both')"
   ]
  },
  {
   "cell_type": "code",
   "execution_count": 5,
   "metadata": {},
   "outputs": [
    {
     "name": "stdout",
     "output_type": "stream",
     "text": [
      "\u001b[92mNilupul (root)\n",
      "   \u001b[90m|__\u001b[94mChinmay\n",
      "      \u001b[90m|__\u001b[37mVishwa\n",
      "         \u001b[90m|__\u001b[37mDhaval\n",
      "         \u001b[90m|__\u001b[37mAbhijit\n",
      "      \u001b[90m|__\u001b[37mAamir\n",
      "   \u001b[90m|__\u001b[94mGels\n",
      "      \u001b[90m|__\u001b[37mPeter\n",
      "      \u001b[90m|__\u001b[37mWaqas\n"
     ]
    }
   ],
   "source": [
    "feed_management_tree().print('name')"
   ]
  },
  {
   "cell_type": "code",
   "execution_count": 6,
   "metadata": {},
   "outputs": [
    {
     "name": "stdout",
     "output_type": "stream",
     "text": [
      "\u001b[92mCEO (root)\n",
      "   \u001b[90m|__\u001b[94mCTO\n",
      "      \u001b[90m|__\u001b[37mInfrastructure Head\n",
      "         \u001b[90m|__\u001b[37mCloud Manager\n",
      "         \u001b[90m|__\u001b[37mApp Manager\n",
      "      \u001b[90m|__\u001b[37mApplication Head\n",
      "   \u001b[90m|__\u001b[94mHR Head\n",
      "      \u001b[90m|__\u001b[37mRecruitment Manager\n",
      "      \u001b[90m|__\u001b[37mPolicy Manager\n"
     ]
    }
   ],
   "source": [
    "feed_management_tree().print('designation')"
   ]
  }
 ],
 "metadata": {
  "kernelspec": {
   "display_name": "Python 3",
   "language": "python",
   "name": "python3"
  },
  "language_info": {
   "codemirror_mode": {
    "name": "ipython",
    "version": 3
   },
   "file_extension": ".py",
   "mimetype": "text/x-python",
   "name": "python",
   "nbconvert_exporter": "python",
   "pygments_lexer": "ipython3",
   "version": "3.10.5"
  },
  "orig_nbformat": 4
 },
 "nbformat": 4,
 "nbformat_minor": 2
}
