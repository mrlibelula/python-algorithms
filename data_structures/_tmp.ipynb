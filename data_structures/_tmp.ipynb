{
 "cells": [
  {
   "cell_type": "code",
   "execution_count": 1,
   "metadata": {},
   "outputs": [
    {
     "data": {
      "text/plain": [
       "True"
      ]
     },
     "execution_count": 1,
     "metadata": {},
     "output_type": "execute_result"
    }
   ],
   "source": [
    "parenthesis = ['{', '}', '(', ')', '[', ']']\n",
    "'{' in parenthesis"
   ]
  },
  {
   "cell_type": "code",
   "execution_count": 2,
   "metadata": {},
   "outputs": [
    {
     "data": {
      "text/plain": [
       "'-----'"
      ]
     },
     "execution_count": 2,
     "metadata": {},
     "output_type": "execute_result"
    }
   ],
   "source": [
    "'-' * 5"
   ]
  },
  {
   "cell_type": "code",
   "execution_count": 17,
   "metadata": {},
   "outputs": [],
   "source": [
    "def color(clr: str) -> str:\n",
    "    clr = clr.upper()\n",
    "    colors = {\n",
    "        \"GREEN\": \"\\033[92m\", \n",
    "        \"DARKGRAY\": \"\\033[90m\", \n",
    "        \"WHITE\": \"\\033[97m\", \n",
    "        \"PURPLE\": \"\\033[94m\", \n",
    "        \"PINK\": \"\\033[95m\", \n",
    "        \"CYAN\": \"\\033[96m\", \n",
    "    }\n",
    "    return colors[clr]"
   ]
  },
  {
   "cell_type": "code",
   "execution_count": 18,
   "metadata": {},
   "outputs": [
    {
     "name": "stdout",
     "output_type": "stream",
     "text": [
      "\u001b[94mHello world\n"
     ]
    }
   ],
   "source": [
    "print(color('PURPLE') + 'Hello world')"
   ]
  },
  {
   "cell_type": "code",
   "execution_count": 16,
   "metadata": {},
   "outputs": [
    {
     "name": "stdout",
     "output_type": "stream",
     "text": [
      "\u001b[30m30\n",
      "\u001b[31m31\n",
      "\u001b[32m32\n",
      "\u001b[33m33\n",
      "\u001b[34m34\n",
      "\u001b[35m35\n",
      "\u001b[36m36\n",
      "\u001b[37m37\n",
      "\u001b[38m38\n",
      "\u001b[39m39\n",
      "\u001b[40m40\n",
      "\u001b[41m41\n",
      "\u001b[42m42\n",
      "\u001b[43m43\n",
      "\u001b[44m44\n",
      "\u001b[45m45\n",
      "\u001b[46m46\n",
      "\u001b[47m47\n",
      "\u001b[48m48\n",
      "\u001b[49m49\n",
      "\u001b[50m50\n",
      "\u001b[51m51\n",
      "\u001b[52m52\n",
      "\u001b[53m53\n",
      "\u001b[54m54\n",
      "\u001b[55m55\n",
      "\u001b[56m56\n",
      "\u001b[57m57\n",
      "\u001b[58m58\n",
      "\u001b[59m59\n",
      "\u001b[60m60\n",
      "\u001b[61m61\n",
      "\u001b[62m62\n",
      "\u001b[63m63\n",
      "\u001b[64m64\n",
      "\u001b[65m65\n",
      "\u001b[66m66\n",
      "\u001b[67m67\n",
      "\u001b[68m68\n",
      "\u001b[69m69\n",
      "\u001b[70m70\n",
      "\u001b[71m71\n",
      "\u001b[72m72\n",
      "\u001b[73m73\n",
      "\u001b[74m74\n",
      "\u001b[75m75\n",
      "\u001b[76m76\n",
      "\u001b[77m77\n",
      "\u001b[78m78\n",
      "\u001b[79m79\n",
      "\u001b[80m80\n",
      "\u001b[81m81\n",
      "\u001b[82m82\n",
      "\u001b[83m83\n",
      "\u001b[84m84\n",
      "\u001b[85m85\n",
      "\u001b[86m86\n",
      "\u001b[87m87\n",
      "\u001b[88m88\n",
      "\u001b[89m89\n",
      "\u001b[90m90\n",
      "\u001b[91m91\n",
      "\u001b[92m92\n",
      "\u001b[93m93\n",
      "\u001b[94m94\n",
      "\u001b[95m95\n",
      "\u001b[96m96\n",
      "\u001b[97m97\n",
      "\u001b[98m98\n",
      "\u001b[99m99\n",
      "\u001b[100m100\n",
      "\u001b[101m101\n",
      "\u001b[102m102\n",
      "\u001b[103m103\n",
      "\u001b[104m104\n",
      "\u001b[105m105\n",
      "\u001b[106m106\n"
     ]
    }
   ],
   "source": [
    "for i in range(30, 107):\n",
    "    print(\"\\033[\" + str(i) + \"m\" + str(i))"
   ]
  }
 ],
 "metadata": {
  "kernelspec": {
   "display_name": "Python 3",
   "language": "python",
   "name": "python3"
  },
  "language_info": {
   "codemirror_mode": {
    "name": "ipython",
    "version": 3
   },
   "file_extension": ".py",
   "mimetype": "text/x-python",
   "name": "python",
   "nbconvert_exporter": "python",
   "pygments_lexer": "ipython3",
   "version": "3.10.5"
  },
  "orig_nbformat": 4
 },
 "nbformat": 4,
 "nbformat_minor": 2
}
