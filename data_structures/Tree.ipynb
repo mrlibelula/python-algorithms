{
 "cells": [
  {
   "attachments": {},
   "cell_type": "markdown",
   "metadata": {},
   "source": [
    "**Tree** - represents hierarchical data"
   ]
  },
  {
   "cell_type": "code",
   "execution_count": 1,
   "metadata": {},
   "outputs": [],
   "source": [
    "from __future__ import annotations\n",
    "from tool import color"
   ]
  },
  {
   "cell_type": "code",
   "execution_count": 2,
   "metadata": {},
   "outputs": [],
   "source": [
    "class TreeNode:\n",
    "    def __init__(self, data) -> None:\n",
    "        self.data = data\n",
    "        self.children = []\n",
    "        self.parent = None\n",
    "        \n",
    "    def add_child(self, child: TreeNode) -> TreeNode:\n",
    "        child.parent = self\n",
    "        self.children.append(child)\n",
    "        return self\n",
    "    \n",
    "    def get_level(self):\n",
    "        level = 0\n",
    "        parent = self.parent\n",
    "        while parent:\n",
    "            level += 1\n",
    "            parent = parent.parent\n",
    "        return level\n",
    "    \n",
    "    def print(self) -> None:\n",
    "        level = self.get_level()\n",
    "        indent = ' ' * level * 3\n",
    "        prefix = indent + color('DARKGRAY') + \"|__\" if self.parent else ''\n",
    "        str = color('GREEN') + self.data + \" (root)\" if level == 0 else prefix + (color('PURPLE') if level == 1 else color('GRAY')) + self.data\n",
    "        print(str)\n",
    "        if self.children:\n",
    "            for child in self.children:\n",
    "                child.print()"
   ]
  },
  {
   "cell_type": "code",
   "execution_count": 3,
   "metadata": {},
   "outputs": [],
   "source": [
    "def build_product_tree() -> TreeNode:\n",
    "    root = TreeNode('Electronics')\n",
    "    \n",
    "    laptop = TreeNode('Laptop')\n",
    "    laptop.add_child(TreeNode('MacBook'))\n",
    "    laptop.add_child(TreeNode('Surface'))\n",
    "    laptop.add_child(TreeNode('Thinkpad'))\n",
    "    \n",
    "    cellphone = TreeNode('Cell Phone')\n",
    "    cellphone.add_child(TreeNode('iPhone'))\n",
    "    cellphone.add_child(TreeNode('Google Pixel'))\n",
    "    cellphone.add_child(TreeNode('Vivo'))\n",
    "    \n",
    "    tv = TreeNode('TV')\n",
    "    tv.add_child(TreeNode('Samsung'))\n",
    "    \n",
    "    lg = TreeNode('LG')\n",
    "    lg.add_child(TreeNode('Libe\\'s awesome TV'))\n",
    "    tv.add_child(lg)\n",
    "    \n",
    "    root.add_child(laptop)\n",
    "    root.add_child(cellphone)\n",
    "    root.add_child(tv)\n",
    "    \n",
    "    return root"
   ]
  },
  {
   "cell_type": "code",
   "execution_count": 4,
   "metadata": {},
   "outputs": [
    {
     "name": "stdout",
     "output_type": "stream",
     "text": [
      "\u001b[92mElectronics (root)\n",
      "   \u001b[90m|__\u001b[94mLaptop\n",
      "      \u001b[90m|__\u001b[37mMacBook\n",
      "      \u001b[90m|__\u001b[37mSurface\n",
      "      \u001b[90m|__\u001b[37mThinkpad\n",
      "   \u001b[90m|__\u001b[94mCell Phone\n",
      "      \u001b[90m|__\u001b[37miPhone\n",
      "      \u001b[90m|__\u001b[37mGoogle Pixel\n",
      "      \u001b[90m|__\u001b[37mVivo\n",
      "   \u001b[90m|__\u001b[94mTV\n",
      "      \u001b[90m|__\u001b[37mSamsung\n",
      "      \u001b[90m|__\u001b[37mLG\n",
      "         \u001b[90m|__\u001b[37mLibe's awesome TV\n"
     ]
    }
   ],
   "source": [
    "build_product_tree().print()"
   ]
  }
 ],
 "metadata": {
  "kernelspec": {
   "display_name": "Python 3",
   "language": "python",
   "name": "python3"
  },
  "language_info": {
   "codemirror_mode": {
    "name": "ipython",
    "version": 3
   },
   "file_extension": ".py",
   "mimetype": "text/x-python",
   "name": "python",
   "nbconvert_exporter": "python",
   "pygments_lexer": "ipython3",
   "version": "3.10.5"
  },
  "orig_nbformat": 4
 },
 "nbformat": 4,
 "nbformat_minor": 2
}
