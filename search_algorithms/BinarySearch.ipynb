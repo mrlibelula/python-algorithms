{
 "cells": [
  {
   "attachments": {},
   "cell_type": "markdown",
   "metadata": {},
   "source": [
    "**Binary Search**"
   ]
  },
  {
   "cell_type": "code",
   "execution_count": 2,
   "metadata": {},
   "outputs": [],
   "source": [
    "from tool import time_it"
   ]
  },
  {
   "cell_type": "code",
   "execution_count": 3,
   "metadata": {},
   "outputs": [],
   "source": [
    "@time_it\n",
    "def linear_search(numbers_list, number_to_find):\n",
    "    # O(n)\n",
    "    for index, element in enumerate(numbers_list):\n",
    "        if element == number_to_find:\n",
    "            return index\n",
    "    return -1\n",
    "\n",
    "@time_it\n",
    "def binary_search(numbers_list, number_to_find):\n",
    "    # O(n)\n",
    "    left_index = 0\n",
    "    right_index = len(numbers_list) - 1\n",
    "    mid_index = 0\n",
    "    \n",
    "    while left_index <= right_index:\n",
    "        mid_index = (left_index + right_index) // 2\n",
    "        mid_number = numbers_list[mid_index]\n",
    "        \n",
    "        if mid_number == number_to_find: return mid_index\n",
    "        if mid_number < number_to_find: \n",
    "            left_index = mid_index + 1\n",
    "        else:\n",
    "            right_index = mid_index - 1\n",
    "            \n",
    "    return -1\n",
    "\n",
    "@time_it\n",
    "def binary_search_recursive(numbers_list, number_to_find, left_index, right_index):\n",
    "    # O(log n)\n",
    "    if right_index < left_index:\n",
    "        return -1\n",
    "    \n",
    "    mid_index = (left_index + right_index) // 2\n",
    "    \n",
    "    if mid_index >= len(numbers_list) or mid_index < 0:\n",
    "        return -1\n",
    "    \n",
    "    mid_number = numbers_list[mid_index]\n",
    "    \n",
    "    if mid_number == number_to_find: return mid_index\n",
    "    if mid_number < number_to_find:\n",
    "        left_index = mid_index + 1\n",
    "    else:\n",
    "        right_index = mid_index - 1\n",
    "        \n",
    "    return binary_search_recursive(numbers_list, number_to_find, left_index, right_index)"
   ]
  },
  {
   "cell_type": "code",
   "execution_count": 4,
   "metadata": {},
   "outputs": [
    {
     "name": "stdout",
     "output_type": "stream",
     "text": [
      "\u001b[94mlinear_search took 495.650053024292 ms\u001b[37m\n",
      "\u001b[94mbinary_search took 0.0 ms\u001b[37m\n",
      "\u001b[94mbinary_search_recursive took 0.0 ms\u001b[37m\n",
      "\u001b[94mbinary_search_recursive took 0.0 ms\u001b[37m\n",
      "\u001b[94mbinary_search_recursive took 0.0 ms\u001b[37m\n",
      "\u001b[94mbinary_search_recursive took 0.0 ms\u001b[37m\n",
      "\u001b[94mbinary_search_recursive took 0.0 ms\u001b[37m\n",
      "\u001b[94mbinary_search_recursive took 0.0 ms\u001b[37m\n",
      "\u001b[94mbinary_search_recursive took 0.0 ms\u001b[37m\n",
      "\u001b[94mbinary_search_recursive took 0.0 ms\u001b[37m\n",
      "\u001b[94mbinary_search_recursive took 0.0 ms\u001b[37m\n",
      "\u001b[94mbinary_search_recursive took 0.0 ms\u001b[37m\n",
      "\u001b[94mbinary_search_recursive took 0.0 ms\u001b[37m\n",
      "\u001b[94mbinary_search_recursive took 0.0 ms\u001b[37m\n",
      "\u001b[94mbinary_search_recursive took 0.0 ms\u001b[37m\n",
      "\u001b[94mbinary_search_recursive took 0.0 ms\u001b[37m\n",
      "\u001b[94mbinary_search_recursive took 0.0 ms\u001b[37m\n",
      "\u001b[94mbinary_search_recursive took 0.0 ms\u001b[37m\n",
      "\u001b[94mbinary_search_recursive took 0.0 ms\u001b[37m\n",
      "\u001b[94mbinary_search_recursive took 0.0 ms\u001b[37m\n",
      "\u001b[94mbinary_search_recursive took 0.0 ms\u001b[37m\n",
      "\u001b[94mbinary_search_recursive took 0.0 ms\u001b[37m\n",
      "\u001b[94mbinary_search_recursive took 0.0 ms\u001b[37m\n",
      "\u001b[94mbinary_search_recursive took 0.0 ms\u001b[37m\n",
      "\u001b[94mbinary_search_recursive took 0.0 ms\u001b[37m\n",
      "(Linear) Number found at 10000000\n",
      "(Binary) Number found at 10000000\n",
      "(Binary recursive) Number found at 10000000\n"
     ]
    }
   ],
   "source": [
    "numbers_list = [i for i in range(10000001)]\n",
    "number_to_find = 10000000\n",
    "\n",
    "index_linear = linear_search(numbers_list, number_to_find)\n",
    "index_binary = binary_search(numbers_list, number_to_find)\n",
    "index_binary_recursive = binary_search_recursive(numbers_list, number_to_find, 0, len(numbers_list))\n",
    "\n",
    "print(f\"(Linear) Number found at {index_linear}\")\n",
    "print(f\"(Binary) Number found at {index_binary}\")\n",
    "print(f\"(Binary recursive) Number found at {index_binary_recursive}\")"
   ]
  }
 ],
 "metadata": {
  "kernelspec": {
   "display_name": "Python 3",
   "language": "python",
   "name": "python3"
  },
  "language_info": {
   "codemirror_mode": {
    "name": "ipython",
    "version": 3
   },
   "file_extension": ".py",
   "mimetype": "text/x-python",
   "name": "python",
   "nbconvert_exporter": "python",
   "pygments_lexer": "ipython3",
   "version": "3.10.5"
  },
  "orig_nbformat": 4
 },
 "nbformat": 4,
 "nbformat_minor": 2
}
