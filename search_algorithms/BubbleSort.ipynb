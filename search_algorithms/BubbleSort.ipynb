{
 "cells": [
  {
   "attachments": {},
   "cell_type": "markdown",
   "metadata": {},
   "source": [
    "**Bubble Sort**\n",
    "<div style=\"font-size: 1rem;\">\n",
    "    <ul>\n",
    "        <li>Time complexity -> O(n<sup>2</sup>)</li>\n",
    "        <li>Space complexity -> O(1)</li>\n",
    "    </ul>\n",
    "</div>"
   ]
  },
  {
   "cell_type": "code",
   "execution_count": 8,
   "metadata": {},
   "outputs": [],
   "source": [
    "def bubble_sort(elements):\n",
    "    size = len(elements)\n",
    "    \n",
    "    for i in range(size - 1):\n",
    "        # for j in range(size - 1): # less efficient, sorting already sorted elements\n",
    "        for j in range(size - 1 - i):   # elements already sorted not accessed\n",
    "            if elements[j] > elements[j + 1]:\n",
    "                tmp = elements[j]\n",
    "                elements[j] = elements[j + 1]\n",
    "                elements[j + 1] = tmp"
   ]
  },
  {
   "cell_type": "code",
   "execution_count": 9,
   "metadata": {},
   "outputs": [
    {
     "data": {
      "text/plain": [
       "[1, 2, 5, 9, 34, 34, 67, 88]"
      ]
     },
     "execution_count": 9,
     "metadata": {},
     "output_type": "execute_result"
    }
   ],
   "source": [
    "elements = [5, 9, 2, 1, 67, 34, 88, 34]\n",
    "bubble_sort(elements)\n",
    "elements"
   ]
  }
 ],
 "metadata": {
  "kernelspec": {
   "display_name": "Python 3",
   "language": "python",
   "name": "python3"
  },
  "language_info": {
   "codemirror_mode": {
    "name": "ipython",
    "version": 3
   },
   "file_extension": ".py",
   "mimetype": "text/x-python",
   "name": "python",
   "nbconvert_exporter": "python",
   "pygments_lexer": "ipython3",
   "version": "3.10.5"
  },
  "orig_nbformat": 4
 },
 "nbformat": 4,
 "nbformat_minor": 2
}
