{
 "cells": [
  {
   "attachments": {},
   "cell_type": "markdown",
   "metadata": {},
   "source": [
    "**Binary Search** - Excercise"
   ]
  },
  {
   "cell_type": "code",
   "execution_count": 4,
   "metadata": {},
   "outputs": [],
   "source": [
    "def binary_search_recursive(numbers_list, number_to_find, left_index, right_index):\n",
    "    # O(log n)\n",
    "    if right_index < left_index:\n",
    "        return -1\n",
    "    \n",
    "    mid_index = (left_index + right_index) // 2\n",
    "    \n",
    "    if mid_index >= len(numbers_list) or mid_index < 0:\n",
    "        return -1\n",
    "    \n",
    "    mid_number = numbers_list[mid_index]\n",
    "    \n",
    "    if mid_number == number_to_find: return mid_index\n",
    "    if mid_number < number_to_find:\n",
    "        left_index = mid_index + 1\n",
    "    else:\n",
    "        right_index = mid_index - 1\n",
    "        \n",
    "    return binary_search_recursive(numbers_list, number_to_find, left_index, right_index)"
   ]
  },
  {
   "cell_type": "code",
   "execution_count": 5,
   "metadata": {},
   "outputs": [],
   "source": [
    "def find_all_occurances(numbers, number_to_find):\n",
    "    index = binary_search_recursive(numbers, number_to_find, 0, len(numbers))\n",
    "    indices = [index]\n",
    "    \n",
    "    # find indices on left hand\n",
    "    i = index - 1\n",
    "    while i >= 0:\n",
    "        if numbers[i] == number_to_find:\n",
    "            indices.append(i)\n",
    "        else:\n",
    "            break\n",
    "        i = i - 1\n",
    "        \n",
    "    # find indices on right hand\n",
    "    i = index + 1\n",
    "    while i < len(numbers):\n",
    "        if numbers[i] == number_to_find:\n",
    "            indices.append(i)\n",
    "        else:\n",
    "            break\n",
    "        i = i + 1\n",
    "        \n",
    "    return sorted(indices)"
   ]
  },
  {
   "cell_type": "code",
   "execution_count": 6,
   "metadata": {},
   "outputs": [
    {
     "name": "stdout",
     "output_type": "stream",
     "text": [
      "Found 2 occurances of 34, at indices: [10, 11]\n"
     ]
    }
   ],
   "source": [
    "numbers = [1, 4, 6, 9, 11, 15, 15, 15, 17, 21, 34, 34, 56]\n",
    "number_to_find = 34\n",
    "indices = find_all_occurances(numbers, number_to_find)\n",
    "print(f\"Found {len(indices)} {'occurance' if len(indices) == 1 else 'occurances'} of {number_to_find}, at {'index' if len(indices) == 1 else 'indices'}: {indices}\")"
   ]
  }
 ],
 "metadata": {
  "kernelspec": {
   "display_name": "Python 3",
   "language": "python",
   "name": "python3"
  },
  "language_info": {
   "codemirror_mode": {
    "name": "ipython",
    "version": 3
   },
   "file_extension": ".py",
   "mimetype": "text/x-python",
   "name": "python",
   "nbconvert_exporter": "python",
   "pygments_lexer": "ipython3",
   "version": "3.10.5"
  },
  "orig_nbformat": 4
 },
 "nbformat": 4,
 "nbformat_minor": 2
}
